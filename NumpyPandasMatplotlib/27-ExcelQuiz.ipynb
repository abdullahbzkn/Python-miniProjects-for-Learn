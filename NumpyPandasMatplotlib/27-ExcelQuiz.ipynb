{
 "cells": [
  {
   "cell_type": "code",
   "metadata": {
    "ExecuteTime": {
     "end_time": "2024-06-30T14:07:09.704623Z",
     "start_time": "2024-06-30T14:07:09.221497Z"
    }
   },
   "source": [
    "import pandas as pd\n",
    "import numpy as np"
   ],
   "outputs": [],
   "execution_count": 1
  },
  {
   "cell_type": "code",
   "metadata": {
    "ExecuteTime": {
     "end_time": "2024-06-30T14:07:09.910840Z",
     "start_time": "2024-06-30T14:07:09.704623Z"
    }
   },
   "source": [
    "dataFrame = pd.read_excel(\"27-SalarySheet.xlsx\")"
   ],
   "outputs": [],
   "execution_count": 2
  },
  {
   "cell_type": "code",
   "metadata": {
    "ExecuteTime": {
     "end_time": "2024-06-30T14:07:11.579467Z",
     "start_time": "2024-06-30T14:07:11.563159Z"
    }
   },
   "source": [
    "dataFrame"
   ],
   "outputs": [
    {
     "data": {
      "text/plain": [
       "       Employee Name            Department       Title  Salary\n",
       "0       Semaj Bowers             Marketing         Mid     600\n",
       "1        Gary Foster                 Sales         Mid     650\n",
       "2   Saniya Maldonado                    HR         Mid     600\n",
       "3     Jillian Zuniga                    HR     C-level    1000\n",
       "4      Courtney Mora                 Sales         Mid     550\n",
       "..               ...                   ...         ...     ...\n",
       "95          Jake Gay                 Sales      Junior     443\n",
       "96      Macy Webster               Finance     C-level    1250\n",
       "97     Jaquan Meyers             Marketing  Mid-Senior     800\n",
       "98       Willow Bush  Software Development      Junior     441\n",
       "99   Emmanuel Prince                 Sales         Mid     612\n",
       "\n",
       "[100 rows x 4 columns]"
      ],
      "text/html": [
       "<div>\n",
       "<style scoped>\n",
       "    .dataframe tbody tr th:only-of-type {\n",
       "        vertical-align: middle;\n",
       "    }\n",
       "\n",
       "    .dataframe tbody tr th {\n",
       "        vertical-align: top;\n",
       "    }\n",
       "\n",
       "    .dataframe thead th {\n",
       "        text-align: right;\n",
       "    }\n",
       "</style>\n",
       "<table border=\"1\" class=\"dataframe\">\n",
       "  <thead>\n",
       "    <tr style=\"text-align: right;\">\n",
       "      <th></th>\n",
       "      <th>Employee Name</th>\n",
       "      <th>Department</th>\n",
       "      <th>Title</th>\n",
       "      <th>Salary</th>\n",
       "    </tr>\n",
       "  </thead>\n",
       "  <tbody>\n",
       "    <tr>\n",
       "      <th>0</th>\n",
       "      <td>Semaj Bowers</td>\n",
       "      <td>Marketing</td>\n",
       "      <td>Mid</td>\n",
       "      <td>600</td>\n",
       "    </tr>\n",
       "    <tr>\n",
       "      <th>1</th>\n",
       "      <td>Gary Foster</td>\n",
       "      <td>Sales</td>\n",
       "      <td>Mid</td>\n",
       "      <td>650</td>\n",
       "    </tr>\n",
       "    <tr>\n",
       "      <th>2</th>\n",
       "      <td>Saniya Maldonado</td>\n",
       "      <td>HR</td>\n",
       "      <td>Mid</td>\n",
       "      <td>600</td>\n",
       "    </tr>\n",
       "    <tr>\n",
       "      <th>3</th>\n",
       "      <td>Jillian Zuniga</td>\n",
       "      <td>HR</td>\n",
       "      <td>C-level</td>\n",
       "      <td>1000</td>\n",
       "    </tr>\n",
       "    <tr>\n",
       "      <th>4</th>\n",
       "      <td>Courtney Mora</td>\n",
       "      <td>Sales</td>\n",
       "      <td>Mid</td>\n",
       "      <td>550</td>\n",
       "    </tr>\n",
       "    <tr>\n",
       "      <th>...</th>\n",
       "      <td>...</td>\n",
       "      <td>...</td>\n",
       "      <td>...</td>\n",
       "      <td>...</td>\n",
       "    </tr>\n",
       "    <tr>\n",
       "      <th>95</th>\n",
       "      <td>Jake Gay</td>\n",
       "      <td>Sales</td>\n",
       "      <td>Junior</td>\n",
       "      <td>443</td>\n",
       "    </tr>\n",
       "    <tr>\n",
       "      <th>96</th>\n",
       "      <td>Macy Webster</td>\n",
       "      <td>Finance</td>\n",
       "      <td>C-level</td>\n",
       "      <td>1250</td>\n",
       "    </tr>\n",
       "    <tr>\n",
       "      <th>97</th>\n",
       "      <td>Jaquan Meyers</td>\n",
       "      <td>Marketing</td>\n",
       "      <td>Mid-Senior</td>\n",
       "      <td>800</td>\n",
       "    </tr>\n",
       "    <tr>\n",
       "      <th>98</th>\n",
       "      <td>Willow Bush</td>\n",
       "      <td>Software Development</td>\n",
       "      <td>Junior</td>\n",
       "      <td>441</td>\n",
       "    </tr>\n",
       "    <tr>\n",
       "      <th>99</th>\n",
       "      <td>Emmanuel Prince</td>\n",
       "      <td>Sales</td>\n",
       "      <td>Mid</td>\n",
       "      <td>612</td>\n",
       "    </tr>\n",
       "  </tbody>\n",
       "</table>\n",
       "<p>100 rows × 4 columns</p>\n",
       "</div>"
      ]
     },
     "execution_count": 3,
     "metadata": {},
     "output_type": "execute_result"
    }
   ],
   "execution_count": 3
  },
  {
   "cell_type": "code",
   "metadata": {
    "ExecuteTime": {
     "end_time": "2024-06-30T14:07:12.823906Z",
     "start_time": "2024-06-30T14:07:12.813389Z"
    }
   },
   "source": [
    "#1) Toplamda kaç satır veri vardır?"
   ],
   "outputs": [],
   "execution_count": 4
  },
  {
   "cell_type": "code",
   "metadata": {
    "ExecuteTime": {
     "end_time": "2024-06-30T14:07:13.601227Z",
     "start_time": "2024-06-30T14:07:13.594179Z"
    }
   },
   "source": [
    "len(dataFrame)\n",
    "#dataFrame.describe()"
   ],
   "outputs": [
    {
     "data": {
      "text/plain": [
       "100"
      ]
     },
     "execution_count": 5,
     "metadata": {},
     "output_type": "execute_result"
    }
   ],
   "execution_count": 5
  },
  {
   "cell_type": "code",
   "metadata": {
    "ExecuteTime": {
     "end_time": "2024-06-30T14:07:14.337077Z",
     "start_time": "2024-06-30T14:07:14.328821Z"
    }
   },
   "source": [
    "#2) Bu firma ortalama ne kadar maaş vermektedir?"
   ],
   "outputs": [],
   "execution_count": 6
  },
  {
   "cell_type": "code",
   "metadata": {
    "ExecuteTime": {
     "end_time": "2024-06-30T14:07:15.085589Z",
     "start_time": "2024-06-30T14:07:15.078233Z"
    }
   },
   "source": "print(dataFrame[\"Salary\"].mean())",
   "outputs": [
    {
     "name": "stdout",
     "output_type": "stream",
     "text": [
      "725.84\n"
     ]
    }
   ],
   "execution_count": 7
  },
  {
   "cell_type": "code",
   "metadata": {
    "ExecuteTime": {
     "end_time": "2024-06-30T14:07:15.833021Z",
     "start_time": "2024-06-30T14:07:15.828301Z"
    }
   },
   "source": [
    "#3) Bu firmada departmanlara göre ortalama maaş karşılaştırması nasıldır?"
   ],
   "outputs": [],
   "execution_count": 8
  },
  {
   "cell_type": "code",
   "metadata": {
    "ExecuteTime": {
     "end_time": "2024-06-30T14:07:16.382347Z",
     "start_time": "2024-06-30T14:07:16.374811Z"
    }
   },
   "source": "dataFrame.groupby(\"Department\").mean(\"Salary\")",
   "outputs": [
    {
     "data": {
      "text/plain": [
       "                          Salary\n",
       "Department                      \n",
       "Finance               805.411765\n",
       "HR                    640.937500\n",
       "Marketing             707.000000\n",
       "Sales                 656.666667\n",
       "Software Development  826.409091"
      ],
      "text/html": [
       "<div>\n",
       "<style scoped>\n",
       "    .dataframe tbody tr th:only-of-type {\n",
       "        vertical-align: middle;\n",
       "    }\n",
       "\n",
       "    .dataframe tbody tr th {\n",
       "        vertical-align: top;\n",
       "    }\n",
       "\n",
       "    .dataframe thead th {\n",
       "        text-align: right;\n",
       "    }\n",
       "</style>\n",
       "<table border=\"1\" class=\"dataframe\">\n",
       "  <thead>\n",
       "    <tr style=\"text-align: right;\">\n",
       "      <th></th>\n",
       "      <th>Salary</th>\n",
       "    </tr>\n",
       "    <tr>\n",
       "      <th>Department</th>\n",
       "      <th></th>\n",
       "    </tr>\n",
       "  </thead>\n",
       "  <tbody>\n",
       "    <tr>\n",
       "      <th>Finance</th>\n",
       "      <td>805.411765</td>\n",
       "    </tr>\n",
       "    <tr>\n",
       "      <th>HR</th>\n",
       "      <td>640.937500</td>\n",
       "    </tr>\n",
       "    <tr>\n",
       "      <th>Marketing</th>\n",
       "      <td>707.000000</td>\n",
       "    </tr>\n",
       "    <tr>\n",
       "      <th>Sales</th>\n",
       "      <td>656.666667</td>\n",
       "    </tr>\n",
       "    <tr>\n",
       "      <th>Software Development</th>\n",
       "      <td>826.409091</td>\n",
       "    </tr>\n",
       "  </tbody>\n",
       "</table>\n",
       "</div>"
      ]
     },
     "execution_count": 9,
     "metadata": {},
     "output_type": "execute_result"
    }
   ],
   "execution_count": 9
  },
  {
   "cell_type": "code",
   "metadata": {
    "ExecuteTime": {
     "end_time": "2024-06-30T14:07:17.285726Z",
     "start_time": "2024-06-30T14:07:17.282502Z"
    }
   },
   "source": [
    "#4) Bu firmada title (senior - junior) durumuna göre ortalama maaş karşılaştırması nasıldır?"
   ],
   "outputs": [],
   "execution_count": 10
  },
  {
   "cell_type": "code",
   "metadata": {
    "ExecuteTime": {
     "end_time": "2024-06-30T14:07:17.836772Z",
     "start_time": "2024-06-30T14:07:17.812660Z"
    }
   },
   "source": [
    "titleGroup = dataFrame.groupby(\"Title\")\n",
    "titleGroup.mean(\"Salary\").loc[[\"Junior\", \"Senior\"]]"
   ],
   "outputs": [
    {
     "data": {
      "text/plain": [
       "            Salary\n",
       "Title             \n",
       "Junior  440.625000\n",
       "Senior  867.777778"
      ],
      "text/html": [
       "<div>\n",
       "<style scoped>\n",
       "    .dataframe tbody tr th:only-of-type {\n",
       "        vertical-align: middle;\n",
       "    }\n",
       "\n",
       "    .dataframe tbody tr th {\n",
       "        vertical-align: top;\n",
       "    }\n",
       "\n",
       "    .dataframe thead th {\n",
       "        text-align: right;\n",
       "    }\n",
       "</style>\n",
       "<table border=\"1\" class=\"dataframe\">\n",
       "  <thead>\n",
       "    <tr style=\"text-align: right;\">\n",
       "      <th></th>\n",
       "      <th>Salary</th>\n",
       "    </tr>\n",
       "    <tr>\n",
       "      <th>Title</th>\n",
       "      <th></th>\n",
       "    </tr>\n",
       "  </thead>\n",
       "  <tbody>\n",
       "    <tr>\n",
       "      <th>Junior</th>\n",
       "      <td>440.625000</td>\n",
       "    </tr>\n",
       "    <tr>\n",
       "      <th>Senior</th>\n",
       "      <td>867.777778</td>\n",
       "    </tr>\n",
       "  </tbody>\n",
       "</table>\n",
       "</div>"
      ]
     },
     "execution_count": 11,
     "metadata": {},
     "output_type": "execute_result"
    }
   ],
   "execution_count": 11
  },
  {
   "cell_type": "code",
   "metadata": {
    "ExecuteTime": {
     "end_time": "2024-06-30T14:07:19.996052Z",
     "start_time": "2024-06-30T14:07:19.990829Z"
    }
   },
   "source": [
    "#5) Senior bir kişinin junior bir kişiye göre maaşı ortalama yüzde kaç fazladır?"
   ],
   "outputs": [],
   "execution_count": 12
  },
  {
   "cell_type": "code",
   "metadata": {
    "ExecuteTime": {
     "end_time": "2024-06-30T14:07:21.157908Z",
     "start_time": "2024-06-30T14:07:21.150117Z"
    }
   },
   "source": [
    "new_data_frame = dataFrame.groupby(\"Title\").mean(\"Salary\")\n",
    "junior_salary = new_data_frame.loc[\"Junior\", \"Salary\"]\n",
    "senior_salary = new_data_frame.loc[\"Senior\", \"Salary\"]\n",
    "print(senior_salary/junior_salary*100-100)"
   ],
   "outputs": [
    {
     "name": "stdout",
     "output_type": "stream",
     "text": [
      "96.94247438928292\n"
     ]
    }
   ],
   "execution_count": 13
  },
  {
   "cell_type": "code",
   "metadata": {
    "ExecuteTime": {
     "end_time": "2024-06-30T14:07:22.959138Z",
     "start_time": "2024-06-30T14:07:22.953959Z"
    }
   },
   "source": [
    "#6) Software development departmanında senior bir kişinin junior bir kişiye göre maaşı ortalama ne kadar fazladır?"
   ],
   "outputs": [],
   "execution_count": 14
  },
  {
   "cell_type": "code",
   "metadata": {
    "ExecuteTime": {
     "end_time": "2024-06-30T14:12:43.024191Z",
     "start_time": "2024-06-30T14:12:43.015771Z"
    }
   },
   "source": [
    "new_data_frame = dataFrame[dataFrame[\"Department\"] == \"Software Development\"]\n",
    "print(new_data_frame)\n",
    "new_data_frame = new_data_frame.groupby(\"Title\").mean(\"Salary\")\n",
    "print(new_data_frame)\n",
    "senior_salary = new_data_frame.loc[\"Senior\", \"Salary\"]\n",
    "junior_salary = new_data_frame.loc[\"Junior\", \"Salary\"]\n",
    "print(senior_salary/junior_salary*100-100)"
   ],
   "outputs": [
    {
     "name": "stdout",
     "output_type": "stream",
     "text": [
      "         Employee Name            Department       Title  Salary\n",
      "6        Caitlin Terry  Software Development      Senior     900\n",
      "9      Travis Morrison  Software Development     C-level     900\n",
      "10         Heidy Weiss  Software Development      Junior     450\n",
      "20        Leonel Klein  Software Development         Mid     850\n",
      "22     Adriel Sandoval  Software Development         Mid     450\n",
      "23       Sullivan Best  Software Development     C-level    1100\n",
      "24        Tiana Duarte  Software Development      Junior     400\n",
      "25         Kelly Blair  Software Development  Mid-Senior     600\n",
      "27    Nicolas Odonnell  Software Development  Mid-Senior     700\n",
      "29         Javier Wood  Software Development     C-level     900\n",
      "34        Kelton Tyler  Software Development     C-level    1100\n",
      "51         Draven Reid  Software Development      Senior     950\n",
      "55      Sanai Andersen  Software Development  Mid-Senior     760\n",
      "58         Linda David  Software Development     C-level    1900\n",
      "59     Cailyn Holloway  Software Development      Senior     815\n",
      "66    Jefferson Cannon  Software Development     C-level    1200\n",
      "78         Sylvia Kane  Software Development      Senior     915\n",
      "79  Kristina Alexander  Software Development         Mid     600\n",
      "88       Leon Odonnell  Software Development  Mid-Senior     800\n",
      "90         Ruben Singh  Software Development  Mid-Senior     700\n",
      "94    William Lawrence  Software Development  Mid-Senior     750\n",
      "98         Willow Bush  Software Development      Junior     441\n",
      "                 Salary\n",
      "Title                  \n",
      "C-level     1183.333333\n",
      "Junior       430.333333\n",
      "Mid          633.333333\n",
      "Mid-Senior   718.333333\n",
      "Senior       895.000000\n",
      "107.97831138652208\n"
     ]
    }
   ],
   "execution_count": 23
  },
  {
   "cell_type": "code",
   "metadata": {
    "ExecuteTime": {
     "end_time": "2024-06-30T13:59:56.160286Z",
     "start_time": "2024-06-30T13:59:56.141627Z"
    }
   },
   "source": [
    "#7) Finance departmanında c-level bir kişinin mid-senior bir kişiye göre maaşı ortalama ne kadar fazladır?"
   ],
   "outputs": [],
   "execution_count": 45
  },
  {
   "cell_type": "code",
   "metadata": {
    "ExecuteTime": {
     "end_time": "2024-06-30T14:19:19.983554Z",
     "start_time": "2024-06-30T14:19:19.961477Z"
    }
   },
   "source": [
    "new_data_frame = dataFrame.loc[dataFrame[\"Department\"] == \"Finance\"]\n",
    "new_data_frame = new_data_frame.groupby(\"Title\").mean(\"Salary\")\n",
    "c_level_salary = new_data_frame.loc[\"C-level\", \"Salary\"]\n",
    "mid_senior_salary = new_data_frame.loc[\"Mid-Senior\", \"Salary\"]\n",
    "print(c_level_salary/mid_senior_salary*100-100)"
   ],
   "outputs": [
    {
     "name": "stdout",
     "output_type": "stream",
     "text": [
      "             Salary\n",
      "Title              \n",
      "C-level     1030.00\n",
      "Junior       469.00\n",
      "Mid          691.25\n",
      "Mid-Senior   790.00\n",
      "Senior      1000.00\n",
      "30.379746835443058\n"
     ]
    }
   ],
   "execution_count": 29
  },
  {
   "cell_type": "code",
   "execution_count": 18,
   "metadata": {},
   "outputs": [],
   "source": [
    "#8) Software development departmanında c-level çalışan sayısı marketing departmanında çalışana oranla kaç kat fazladır?"
   ]
  },
  {
   "cell_type": "code",
   "metadata": {
    "ExecuteTime": {
     "end_time": "2024-06-30T15:01:50.640562Z",
     "start_time": "2024-06-30T15:01:50.625447Z"
    }
   },
   "source": [
    "new_data_frame = dataFrame.loc[dataFrame[\"Title\"] == \"C-level\"]\n",
    "software_employee = new_data_frame.loc[dataFrame[\"Department\"] == \"Software Development\"].shape[0]\n",
    "marketing_employee = new_data_frame.loc[dataFrame[\"Department\"] == \"Marketing\"].shape[0]\n",
    "print(software_employee)\n",
    "print(marketing_employee)\n",
    "print(software_employee / marketing_employee)"
   ],
   "outputs": [
    {
     "name": "stdout",
     "output_type": "stream",
     "text": [
      "6\n",
      "2\n",
      "3.0\n"
     ]
    }
   ],
   "execution_count": 67
  },
  {
   "cell_type": "code",
   "execution_count": null,
   "metadata": {},
   "outputs": [],
   "source": []
  }
 ],
 "metadata": {
  "kernelspec": {
   "display_name": "Python 3",
   "language": "python",
   "name": "python3"
  },
  "language_info": {
   "codemirror_mode": {
    "name": "ipython",
    "version": 3
   },
   "file_extension": ".py",
   "mimetype": "text/x-python",
   "name": "python",
   "nbconvert_exporter": "python",
   "pygments_lexer": "ipython3",
   "version": "3.8.5"
  }
 },
 "nbformat": 4,
 "nbformat_minor": 4
}
